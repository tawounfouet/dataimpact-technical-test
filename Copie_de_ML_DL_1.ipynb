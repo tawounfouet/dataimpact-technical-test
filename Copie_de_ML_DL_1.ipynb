{
  "nbformat": 4,
  "nbformat_minor": 0,
  "metadata": {
    "colab": {
      "provenance": [],
      "include_colab_link": true
    },
    "kernelspec": {
      "display_name": "Python 3",
      "language": "python",
      "name": "python3"
    },
    "language_info": {
      "codemirror_mode": {
        "name": "ipython",
        "version": 3
      },
      "file_extension": ".py",
      "mimetype": "text/x-python",
      "name": "python",
      "nbconvert_exporter": "python",
      "pygments_lexer": "ipython3",
      "version": "3.6.9"
    },
    "accelerator": "GPU"
  },
  "cells": [
    {
      "cell_type": "markdown",
      "metadata": {
        "id": "view-in-github",
        "colab_type": "text"
      },
      "source": [
        "<a href=\"https://colab.research.google.com/github/tawounfouet/dataimpact-technical-test/blob/main/Copie_de_ML_DL_1.ipynb\" target=\"_parent\"><img src=\"https://colab.research.google.com/assets/colab-badge.svg\" alt=\"Open In Colab\"/></a>"
      ]
    },
    {
      "cell_type": "markdown",
      "metadata": {
        "id": "ti9sGhemyre4"
      },
      "source": [
        "# Data Science\n",
        "\n",
        "**Answering questions with a 🔴 are considered mandatory for CDI.**\n",
        "\n",
        "Before starting the exercises make sure the GPU is enabled\n",
        "\n",
        "\n",
        "*   Go to the runtime menu (&#8593; )\n",
        "*   Select *Change runtime type*\n",
        "*   Select GPU as *Hardware accelerator*\n"
      ]
    },
    {
      "cell_type": "markdown",
      "metadata": {
        "id": "05ySfJ8oz1A-"
      },
      "source": [
        "## Machine Learning\n",
        "\n",
        "### Exercise 1 **(10 points)**\n",
        "Using sklearn library, find the fitting algorithm to classify whether someone has diabetes or not according to the dataset found in the repository as `Data_science/machine_learning/diabetes.csv`. The column containing the target is 'Outcome'.\n",
        "\n",
        "An accuracy of around 0.7 is considered acceptable, but make sure to try different models to find the best one.\n",
        "\n",
        "\n",
        "---\n",
        "\n",
        "\n",
        "To upload the `diabetes.csv` file to google colab run the cell below. It will display a button for upload. After upload, file will be visible on the files tab on your left (folder icon)"
      ]
    },
    {
      "cell_type": "code",
      "metadata": {
        "id": "gOQILqXgyoLj",
        "colab": {
          "base_uri": "https://localhost:8080/",
          "height": 90
        },
        "outputId": "0696a568-6f4a-4219-8c22-57cb3e0c5a55"
      },
      "source": [
        "from google.colab import files\n",
        "\n",
        "uploaded = files.upload()\n",
        "\n",
        "for fn in uploaded.keys():\n",
        "  print('User uploaded file \"{name}\" with length {length} bytes'.format(\n",
        "      name=fn, length=len(uploaded[fn])))"
      ],
      "execution_count": null,
      "outputs": [
        {
          "output_type": "display_data",
          "data": {
            "text/plain": [
              "<IPython.core.display.HTML object>"
            ],
            "text/html": [
              "\n",
              "     <input type=\"file\" id=\"files-f98d65b4-d089-42a5-84bc-21fd9ac872ed\" name=\"files[]\" multiple disabled\n",
              "        style=\"border:none\" />\n",
              "     <output id=\"result-f98d65b4-d089-42a5-84bc-21fd9ac872ed\">\n",
              "      Upload widget is only available when the cell has been executed in the\n",
              "      current browser session. Please rerun this cell to enable.\n",
              "      </output>\n",
              "      <script>// Copyright 2017 Google LLC\n",
              "//\n",
              "// Licensed under the Apache License, Version 2.0 (the \"License\");\n",
              "// you may not use this file except in compliance with the License.\n",
              "// You may obtain a copy of the License at\n",
              "//\n",
              "//      http://www.apache.org/licenses/LICENSE-2.0\n",
              "//\n",
              "// Unless required by applicable law or agreed to in writing, software\n",
              "// distributed under the License is distributed on an \"AS IS\" BASIS,\n",
              "// WITHOUT WARRANTIES OR CONDITIONS OF ANY KIND, either express or implied.\n",
              "// See the License for the specific language governing permissions and\n",
              "// limitations under the License.\n",
              "\n",
              "/**\n",
              " * @fileoverview Helpers for google.colab Python module.\n",
              " */\n",
              "(function(scope) {\n",
              "function span(text, styleAttributes = {}) {\n",
              "  const element = document.createElement('span');\n",
              "  element.textContent = text;\n",
              "  for (const key of Object.keys(styleAttributes)) {\n",
              "    element.style[key] = styleAttributes[key];\n",
              "  }\n",
              "  return element;\n",
              "}\n",
              "\n",
              "// Max number of bytes which will be uploaded at a time.\n",
              "const MAX_PAYLOAD_SIZE = 100 * 1024;\n",
              "\n",
              "function _uploadFiles(inputId, outputId) {\n",
              "  const steps = uploadFilesStep(inputId, outputId);\n",
              "  const outputElement = document.getElementById(outputId);\n",
              "  // Cache steps on the outputElement to make it available for the next call\n",
              "  // to uploadFilesContinue from Python.\n",
              "  outputElement.steps = steps;\n",
              "\n",
              "  return _uploadFilesContinue(outputId);\n",
              "}\n",
              "\n",
              "// This is roughly an async generator (not supported in the browser yet),\n",
              "// where there are multiple asynchronous steps and the Python side is going\n",
              "// to poll for completion of each step.\n",
              "// This uses a Promise to block the python side on completion of each step,\n",
              "// then passes the result of the previous step as the input to the next step.\n",
              "function _uploadFilesContinue(outputId) {\n",
              "  const outputElement = document.getElementById(outputId);\n",
              "  const steps = outputElement.steps;\n",
              "\n",
              "  const next = steps.next(outputElement.lastPromiseValue);\n",
              "  return Promise.resolve(next.value.promise).then((value) => {\n",
              "    // Cache the last promise value to make it available to the next\n",
              "    // step of the generator.\n",
              "    outputElement.lastPromiseValue = value;\n",
              "    return next.value.response;\n",
              "  });\n",
              "}\n",
              "\n",
              "/**\n",
              " * Generator function which is called between each async step of the upload\n",
              " * process.\n",
              " * @param {string} inputId Element ID of the input file picker element.\n",
              " * @param {string} outputId Element ID of the output display.\n",
              " * @return {!Iterable<!Object>} Iterable of next steps.\n",
              " */\n",
              "function* uploadFilesStep(inputId, outputId) {\n",
              "  const inputElement = document.getElementById(inputId);\n",
              "  inputElement.disabled = false;\n",
              "\n",
              "  const outputElement = document.getElementById(outputId);\n",
              "  outputElement.innerHTML = '';\n",
              "\n",
              "  const pickedPromise = new Promise((resolve) => {\n",
              "    inputElement.addEventListener('change', (e) => {\n",
              "      resolve(e.target.files);\n",
              "    });\n",
              "  });\n",
              "\n",
              "  const cancel = document.createElement('button');\n",
              "  inputElement.parentElement.appendChild(cancel);\n",
              "  cancel.textContent = 'Cancel upload';\n",
              "  const cancelPromise = new Promise((resolve) => {\n",
              "    cancel.onclick = () => {\n",
              "      resolve(null);\n",
              "    };\n",
              "  });\n",
              "\n",
              "  // Wait for the user to pick the files.\n",
              "  const files = yield {\n",
              "    promise: Promise.race([pickedPromise, cancelPromise]),\n",
              "    response: {\n",
              "      action: 'starting',\n",
              "    }\n",
              "  };\n",
              "\n",
              "  cancel.remove();\n",
              "\n",
              "  // Disable the input element since further picks are not allowed.\n",
              "  inputElement.disabled = true;\n",
              "\n",
              "  if (!files) {\n",
              "    return {\n",
              "      response: {\n",
              "        action: 'complete',\n",
              "      }\n",
              "    };\n",
              "  }\n",
              "\n",
              "  for (const file of files) {\n",
              "    const li = document.createElement('li');\n",
              "    li.append(span(file.name, {fontWeight: 'bold'}));\n",
              "    li.append(span(\n",
              "        `(${file.type || 'n/a'}) - ${file.size} bytes, ` +\n",
              "        `last modified: ${\n",
              "            file.lastModifiedDate ? file.lastModifiedDate.toLocaleDateString() :\n",
              "                                    'n/a'} - `));\n",
              "    const percent = span('0% done');\n",
              "    li.appendChild(percent);\n",
              "\n",
              "    outputElement.appendChild(li);\n",
              "\n",
              "    const fileDataPromise = new Promise((resolve) => {\n",
              "      const reader = new FileReader();\n",
              "      reader.onload = (e) => {\n",
              "        resolve(e.target.result);\n",
              "      };\n",
              "      reader.readAsArrayBuffer(file);\n",
              "    });\n",
              "    // Wait for the data to be ready.\n",
              "    let fileData = yield {\n",
              "      promise: fileDataPromise,\n",
              "      response: {\n",
              "        action: 'continue',\n",
              "      }\n",
              "    };\n",
              "\n",
              "    // Use a chunked sending to avoid message size limits. See b/62115660.\n",
              "    let position = 0;\n",
              "    do {\n",
              "      const length = Math.min(fileData.byteLength - position, MAX_PAYLOAD_SIZE);\n",
              "      const chunk = new Uint8Array(fileData, position, length);\n",
              "      position += length;\n",
              "\n",
              "      const base64 = btoa(String.fromCharCode.apply(null, chunk));\n",
              "      yield {\n",
              "        response: {\n",
              "          action: 'append',\n",
              "          file: file.name,\n",
              "          data: base64,\n",
              "        },\n",
              "      };\n",
              "\n",
              "      let percentDone = fileData.byteLength === 0 ?\n",
              "          100 :\n",
              "          Math.round((position / fileData.byteLength) * 100);\n",
              "      percent.textContent = `${percentDone}% done`;\n",
              "\n",
              "    } while (position < fileData.byteLength);\n",
              "  }\n",
              "\n",
              "  // All done.\n",
              "  yield {\n",
              "    response: {\n",
              "      action: 'complete',\n",
              "    }\n",
              "  };\n",
              "}\n",
              "\n",
              "scope.google = scope.google || {};\n",
              "scope.google.colab = scope.google.colab || {};\n",
              "scope.google.colab._files = {\n",
              "  _uploadFiles,\n",
              "  _uploadFilesContinue,\n",
              "};\n",
              "})(self);\n",
              "</script> "
            ]
          },
          "metadata": {}
        },
        {
          "output_type": "stream",
          "name": "stdout",
          "text": [
            "Saving diabetes.csv to diabetes.csv\n",
            "User uploaded file \"diabetes.csv\" with length 23873 bytes\n"
          ]
        }
      ]
    },
    {
      "cell_type": "code",
      "metadata": {
        "id": "lN---lpe3niY"
      },
      "source": [
        "import sklearn"
      ],
      "execution_count": null,
      "outputs": []
    },
    {
      "cell_type": "code",
      "metadata": {
        "id": "eZ1digEj3sdr"
      },
      "source": [
        "# Write your code here\n",
        "import pandas as pd\n",
        "\n",
        "# Load the dataset\n",
        "# df = pd.read_csv(\"Data_science/machine_learning/diabetes.csv\")\n",
        "df = pd.read_csv(\"diabetes.csv\")"
      ],
      "execution_count": null,
      "outputs": []
    },
    {
      "cell_type": "code",
      "source": [
        "df.head()"
      ],
      "metadata": {
        "colab": {
          "base_uri": "https://localhost:8080/",
          "height": 206
        },
        "id": "IylJTcs00BTw",
        "outputId": "46a215e4-7e85-4f3e-c4ce-540cf8368ff6"
      },
      "execution_count": null,
      "outputs": [
        {
          "output_type": "execute_result",
          "data": {
            "text/plain": [
              "   Pregnancies  Glucose  BloodPressure  SkinThickness  Insulin   BMI  \\\n",
              "0            6      148             72             35        0  33.6   \n",
              "1            1       85             66             29        0  26.6   \n",
              "2            8      183             64              0        0  23.3   \n",
              "3            1       89             66             23       94  28.1   \n",
              "4            0      137             40             35      168  43.1   \n",
              "\n",
              "   DiabetesPedigreeFunction  Age  Outcome  \n",
              "0                     0.627   50        1  \n",
              "1                     0.351   31        0  \n",
              "2                     0.672   32        1  \n",
              "3                     0.167   21        0  \n",
              "4                     2.288   33        1  "
            ],
            "text/html": [
              "\n",
              "  <div id=\"df-8b5f692b-cac9-46ee-9005-778b45133fe8\" class=\"colab-df-container\">\n",
              "    <div>\n",
              "<style scoped>\n",
              "    .dataframe tbody tr th:only-of-type {\n",
              "        vertical-align: middle;\n",
              "    }\n",
              "\n",
              "    .dataframe tbody tr th {\n",
              "        vertical-align: top;\n",
              "    }\n",
              "\n",
              "    .dataframe thead th {\n",
              "        text-align: right;\n",
              "    }\n",
              "</style>\n",
              "<table border=\"1\" class=\"dataframe\">\n",
              "  <thead>\n",
              "    <tr style=\"text-align: right;\">\n",
              "      <th></th>\n",
              "      <th>Pregnancies</th>\n",
              "      <th>Glucose</th>\n",
              "      <th>BloodPressure</th>\n",
              "      <th>SkinThickness</th>\n",
              "      <th>Insulin</th>\n",
              "      <th>BMI</th>\n",
              "      <th>DiabetesPedigreeFunction</th>\n",
              "      <th>Age</th>\n",
              "      <th>Outcome</th>\n",
              "    </tr>\n",
              "  </thead>\n",
              "  <tbody>\n",
              "    <tr>\n",
              "      <th>0</th>\n",
              "      <td>6</td>\n",
              "      <td>148</td>\n",
              "      <td>72</td>\n",
              "      <td>35</td>\n",
              "      <td>0</td>\n",
              "      <td>33.6</td>\n",
              "      <td>0.627</td>\n",
              "      <td>50</td>\n",
              "      <td>1</td>\n",
              "    </tr>\n",
              "    <tr>\n",
              "      <th>1</th>\n",
              "      <td>1</td>\n",
              "      <td>85</td>\n",
              "      <td>66</td>\n",
              "      <td>29</td>\n",
              "      <td>0</td>\n",
              "      <td>26.6</td>\n",
              "      <td>0.351</td>\n",
              "      <td>31</td>\n",
              "      <td>0</td>\n",
              "    </tr>\n",
              "    <tr>\n",
              "      <th>2</th>\n",
              "      <td>8</td>\n",
              "      <td>183</td>\n",
              "      <td>64</td>\n",
              "      <td>0</td>\n",
              "      <td>0</td>\n",
              "      <td>23.3</td>\n",
              "      <td>0.672</td>\n",
              "      <td>32</td>\n",
              "      <td>1</td>\n",
              "    </tr>\n",
              "    <tr>\n",
              "      <th>3</th>\n",
              "      <td>1</td>\n",
              "      <td>89</td>\n",
              "      <td>66</td>\n",
              "      <td>23</td>\n",
              "      <td>94</td>\n",
              "      <td>28.1</td>\n",
              "      <td>0.167</td>\n",
              "      <td>21</td>\n",
              "      <td>0</td>\n",
              "    </tr>\n",
              "    <tr>\n",
              "      <th>4</th>\n",
              "      <td>0</td>\n",
              "      <td>137</td>\n",
              "      <td>40</td>\n",
              "      <td>35</td>\n",
              "      <td>168</td>\n",
              "      <td>43.1</td>\n",
              "      <td>2.288</td>\n",
              "      <td>33</td>\n",
              "      <td>1</td>\n",
              "    </tr>\n",
              "  </tbody>\n",
              "</table>\n",
              "</div>\n",
              "    <div class=\"colab-df-buttons\">\n",
              "\n",
              "  <div class=\"colab-df-container\">\n",
              "    <button class=\"colab-df-convert\" onclick=\"convertToInteractive('df-8b5f692b-cac9-46ee-9005-778b45133fe8')\"\n",
              "            title=\"Convert this dataframe to an interactive table.\"\n",
              "            style=\"display:none;\">\n",
              "\n",
              "  <svg xmlns=\"http://www.w3.org/2000/svg\" height=\"24px\" viewBox=\"0 -960 960 960\">\n",
              "    <path d=\"M120-120v-720h720v720H120Zm60-500h600v-160H180v160Zm220 220h160v-160H400v160Zm0 220h160v-160H400v160ZM180-400h160v-160H180v160Zm440 0h160v-160H620v160ZM180-180h160v-160H180v160Zm440 0h160v-160H620v160Z\"/>\n",
              "  </svg>\n",
              "    </button>\n",
              "\n",
              "  <style>\n",
              "    .colab-df-container {\n",
              "      display:flex;\n",
              "      gap: 12px;\n",
              "    }\n",
              "\n",
              "    .colab-df-convert {\n",
              "      background-color: #E8F0FE;\n",
              "      border: none;\n",
              "      border-radius: 50%;\n",
              "      cursor: pointer;\n",
              "      display: none;\n",
              "      fill: #1967D2;\n",
              "      height: 32px;\n",
              "      padding: 0 0 0 0;\n",
              "      width: 32px;\n",
              "    }\n",
              "\n",
              "    .colab-df-convert:hover {\n",
              "      background-color: #E2EBFA;\n",
              "      box-shadow: 0px 1px 2px rgba(60, 64, 67, 0.3), 0px 1px 3px 1px rgba(60, 64, 67, 0.15);\n",
              "      fill: #174EA6;\n",
              "    }\n",
              "\n",
              "    .colab-df-buttons div {\n",
              "      margin-bottom: 4px;\n",
              "    }\n",
              "\n",
              "    [theme=dark] .colab-df-convert {\n",
              "      background-color: #3B4455;\n",
              "      fill: #D2E3FC;\n",
              "    }\n",
              "\n",
              "    [theme=dark] .colab-df-convert:hover {\n",
              "      background-color: #434B5C;\n",
              "      box-shadow: 0px 1px 3px 1px rgba(0, 0, 0, 0.15);\n",
              "      filter: drop-shadow(0px 1px 2px rgba(0, 0, 0, 0.3));\n",
              "      fill: #FFFFFF;\n",
              "    }\n",
              "  </style>\n",
              "\n",
              "    <script>\n",
              "      const buttonEl =\n",
              "        document.querySelector('#df-8b5f692b-cac9-46ee-9005-778b45133fe8 button.colab-df-convert');\n",
              "      buttonEl.style.display =\n",
              "        google.colab.kernel.accessAllowed ? 'block' : 'none';\n",
              "\n",
              "      async function convertToInteractive(key) {\n",
              "        const element = document.querySelector('#df-8b5f692b-cac9-46ee-9005-778b45133fe8');\n",
              "        const dataTable =\n",
              "          await google.colab.kernel.invokeFunction('convertToInteractive',\n",
              "                                                    [key], {});\n",
              "        if (!dataTable) return;\n",
              "\n",
              "        const docLinkHtml = 'Like what you see? Visit the ' +\n",
              "          '<a target=\"_blank\" href=https://colab.research.google.com/notebooks/data_table.ipynb>data table notebook</a>'\n",
              "          + ' to learn more about interactive tables.';\n",
              "        element.innerHTML = '';\n",
              "        dataTable['output_type'] = 'display_data';\n",
              "        await google.colab.output.renderOutput(dataTable, element);\n",
              "        const docLink = document.createElement('div');\n",
              "        docLink.innerHTML = docLinkHtml;\n",
              "        element.appendChild(docLink);\n",
              "      }\n",
              "    </script>\n",
              "  </div>\n",
              "\n",
              "\n",
              "<div id=\"df-feaac70f-478d-43b4-89c8-152d9864ccd2\">\n",
              "  <button class=\"colab-df-quickchart\" onclick=\"quickchart('df-feaac70f-478d-43b4-89c8-152d9864ccd2')\"\n",
              "            title=\"Suggest charts\"\n",
              "            style=\"display:none;\">\n",
              "\n",
              "<svg xmlns=\"http://www.w3.org/2000/svg\" height=\"24px\"viewBox=\"0 0 24 24\"\n",
              "     width=\"24px\">\n",
              "    <g>\n",
              "        <path d=\"M19 3H5c-1.1 0-2 .9-2 2v14c0 1.1.9 2 2 2h14c1.1 0 2-.9 2-2V5c0-1.1-.9-2-2-2zM9 17H7v-7h2v7zm4 0h-2V7h2v10zm4 0h-2v-4h2v4z\"/>\n",
              "    </g>\n",
              "</svg>\n",
              "  </button>\n",
              "\n",
              "<style>\n",
              "  .colab-df-quickchart {\n",
              "      --bg-color: #E8F0FE;\n",
              "      --fill-color: #1967D2;\n",
              "      --hover-bg-color: #E2EBFA;\n",
              "      --hover-fill-color: #174EA6;\n",
              "      --disabled-fill-color: #AAA;\n",
              "      --disabled-bg-color: #DDD;\n",
              "  }\n",
              "\n",
              "  [theme=dark] .colab-df-quickchart {\n",
              "      --bg-color: #3B4455;\n",
              "      --fill-color: #D2E3FC;\n",
              "      --hover-bg-color: #434B5C;\n",
              "      --hover-fill-color: #FFFFFF;\n",
              "      --disabled-bg-color: #3B4455;\n",
              "      --disabled-fill-color: #666;\n",
              "  }\n",
              "\n",
              "  .colab-df-quickchart {\n",
              "    background-color: var(--bg-color);\n",
              "    border: none;\n",
              "    border-radius: 50%;\n",
              "    cursor: pointer;\n",
              "    display: none;\n",
              "    fill: var(--fill-color);\n",
              "    height: 32px;\n",
              "    padding: 0;\n",
              "    width: 32px;\n",
              "  }\n",
              "\n",
              "  .colab-df-quickchart:hover {\n",
              "    background-color: var(--hover-bg-color);\n",
              "    box-shadow: 0 1px 2px rgba(60, 64, 67, 0.3), 0 1px 3px 1px rgba(60, 64, 67, 0.15);\n",
              "    fill: var(--button-hover-fill-color);\n",
              "  }\n",
              "\n",
              "  .colab-df-quickchart-complete:disabled,\n",
              "  .colab-df-quickchart-complete:disabled:hover {\n",
              "    background-color: var(--disabled-bg-color);\n",
              "    fill: var(--disabled-fill-color);\n",
              "    box-shadow: none;\n",
              "  }\n",
              "\n",
              "  .colab-df-spinner {\n",
              "    border: 2px solid var(--fill-color);\n",
              "    border-color: transparent;\n",
              "    border-bottom-color: var(--fill-color);\n",
              "    animation:\n",
              "      spin 1s steps(1) infinite;\n",
              "  }\n",
              "\n",
              "  @keyframes spin {\n",
              "    0% {\n",
              "      border-color: transparent;\n",
              "      border-bottom-color: var(--fill-color);\n",
              "      border-left-color: var(--fill-color);\n",
              "    }\n",
              "    20% {\n",
              "      border-color: transparent;\n",
              "      border-left-color: var(--fill-color);\n",
              "      border-top-color: var(--fill-color);\n",
              "    }\n",
              "    30% {\n",
              "      border-color: transparent;\n",
              "      border-left-color: var(--fill-color);\n",
              "      border-top-color: var(--fill-color);\n",
              "      border-right-color: var(--fill-color);\n",
              "    }\n",
              "    40% {\n",
              "      border-color: transparent;\n",
              "      border-right-color: var(--fill-color);\n",
              "      border-top-color: var(--fill-color);\n",
              "    }\n",
              "    60% {\n",
              "      border-color: transparent;\n",
              "      border-right-color: var(--fill-color);\n",
              "    }\n",
              "    80% {\n",
              "      border-color: transparent;\n",
              "      border-right-color: var(--fill-color);\n",
              "      border-bottom-color: var(--fill-color);\n",
              "    }\n",
              "    90% {\n",
              "      border-color: transparent;\n",
              "      border-bottom-color: var(--fill-color);\n",
              "    }\n",
              "  }\n",
              "</style>\n",
              "\n",
              "  <script>\n",
              "    async function quickchart(key) {\n",
              "      const quickchartButtonEl =\n",
              "        document.querySelector('#' + key + ' button');\n",
              "      quickchartButtonEl.disabled = true;  // To prevent multiple clicks.\n",
              "      quickchartButtonEl.classList.add('colab-df-spinner');\n",
              "      try {\n",
              "        const charts = await google.colab.kernel.invokeFunction(\n",
              "            'suggestCharts', [key], {});\n",
              "      } catch (error) {\n",
              "        console.error('Error during call to suggestCharts:', error);\n",
              "      }\n",
              "      quickchartButtonEl.classList.remove('colab-df-spinner');\n",
              "      quickchartButtonEl.classList.add('colab-df-quickchart-complete');\n",
              "    }\n",
              "    (() => {\n",
              "      let quickchartButtonEl =\n",
              "        document.querySelector('#df-feaac70f-478d-43b4-89c8-152d9864ccd2 button');\n",
              "      quickchartButtonEl.style.display =\n",
              "        google.colab.kernel.accessAllowed ? 'block' : 'none';\n",
              "    })();\n",
              "  </script>\n",
              "</div>\n",
              "    </div>\n",
              "  </div>\n"
            ],
            "application/vnd.google.colaboratory.intrinsic+json": {
              "type": "dataframe",
              "variable_name": "df",
              "summary": "{\n  \"name\": \"df\",\n  \"rows\": 768,\n  \"fields\": [\n    {\n      \"column\": \"Pregnancies\",\n      \"properties\": {\n        \"dtype\": \"number\",\n        \"std\": 3,\n        \"min\": 0,\n        \"max\": 17,\n        \"num_unique_values\": 17,\n        \"samples\": [\n          6,\n          1,\n          3\n        ],\n        \"semantic_type\": \"\",\n        \"description\": \"\"\n      }\n    },\n    {\n      \"column\": \"Glucose\",\n      \"properties\": {\n        \"dtype\": \"number\",\n        \"std\": 31,\n        \"min\": 0,\n        \"max\": 199,\n        \"num_unique_values\": 136,\n        \"samples\": [\n          151,\n          101,\n          112\n        ],\n        \"semantic_type\": \"\",\n        \"description\": \"\"\n      }\n    },\n    {\n      \"column\": \"BloodPressure\",\n      \"properties\": {\n        \"dtype\": \"number\",\n        \"std\": 19,\n        \"min\": 0,\n        \"max\": 122,\n        \"num_unique_values\": 47,\n        \"samples\": [\n          86,\n          46,\n          85\n        ],\n        \"semantic_type\": \"\",\n        \"description\": \"\"\n      }\n    },\n    {\n      \"column\": \"SkinThickness\",\n      \"properties\": {\n        \"dtype\": \"number\",\n        \"std\": 15,\n        \"min\": 0,\n        \"max\": 99,\n        \"num_unique_values\": 51,\n        \"samples\": [\n          7,\n          12,\n          48\n        ],\n        \"semantic_type\": \"\",\n        \"description\": \"\"\n      }\n    },\n    {\n      \"column\": \"Insulin\",\n      \"properties\": {\n        \"dtype\": \"number\",\n        \"std\": 115,\n        \"min\": 0,\n        \"max\": 846,\n        \"num_unique_values\": 186,\n        \"samples\": [\n          52,\n          41,\n          183\n        ],\n        \"semantic_type\": \"\",\n        \"description\": \"\"\n      }\n    },\n    {\n      \"column\": \"BMI\",\n      \"properties\": {\n        \"dtype\": \"number\",\n        \"std\": 7.884160320375446,\n        \"min\": 0.0,\n        \"max\": 67.1,\n        \"num_unique_values\": 248,\n        \"samples\": [\n          19.9,\n          31.0,\n          38.1\n        ],\n        \"semantic_type\": \"\",\n        \"description\": \"\"\n      }\n    },\n    {\n      \"column\": \"DiabetesPedigreeFunction\",\n      \"properties\": {\n        \"dtype\": \"number\",\n        \"std\": 0.3313285950127749,\n        \"min\": 0.078,\n        \"max\": 2.42,\n        \"num_unique_values\": 517,\n        \"samples\": [\n          1.731,\n          0.426,\n          0.138\n        ],\n        \"semantic_type\": \"\",\n        \"description\": \"\"\n      }\n    },\n    {\n      \"column\": \"Age\",\n      \"properties\": {\n        \"dtype\": \"number\",\n        \"std\": 11,\n        \"min\": 21,\n        \"max\": 81,\n        \"num_unique_values\": 52,\n        \"samples\": [\n          60,\n          47,\n          72\n        ],\n        \"semantic_type\": \"\",\n        \"description\": \"\"\n      }\n    },\n    {\n      \"column\": \"Outcome\",\n      \"properties\": {\n        \"dtype\": \"number\",\n        \"std\": 0,\n        \"min\": 0,\n        \"max\": 1,\n        \"num_unique_values\": 2,\n        \"samples\": [\n          0,\n          1\n        ],\n        \"semantic_type\": \"\",\n        \"description\": \"\"\n      }\n    }\n  ]\n}"
            }
          },
          "metadata": {},
          "execution_count": 6
        }
      ]
    },
    {
      "cell_type": "code",
      "source": [
        "from sklearn.model_selection import train_test_split\n",
        "from sklearn.preprocessing import StandardScaler\n",
        "\n",
        "# Prepare the data\n",
        "X = df.drop(columns=['Outcome'])  # Features\n",
        "y = df['Outcome']  # Target variable\n",
        "\n",
        "# Split the data into training and testing sets\n",
        "X_train, X_test, y_train, y_test = train_test_split(X, y, test_size=0.2, random_state=42)\n",
        "\n",
        "# Standardize features\n",
        "scaler = StandardScaler()\n",
        "X_train_scaled = scaler.fit_transform(X_train)\n",
        "X_test_scaled = scaler.transform(X_test)"
      ],
      "metadata": {
        "id": "Jy4YlLK30AWJ"
      },
      "execution_count": null,
      "outputs": []
    },
    {
      "cell_type": "code",
      "source": [
        "from sklearn.linear_model import LogisticRegression\n",
        "\n",
        "# Choose a classification algorithm and train the model\n",
        "model = LogisticRegression()\n",
        "model.fit(X_train_scaled, y_train)\n",
        "\n",
        "# Make predictions\n",
        "y_pred = model.predict(X_test_scaled)\n",
        "\n",
        "print(f\"y      : {y_pred[:10]}\")\n",
        "print(f\"y_pred : {y_pred[:10]}\")"
      ],
      "metadata": {
        "colab": {
          "base_uri": "https://localhost:8080/"
        },
        "id": "SD5SV5PI1Afv",
        "outputId": "17ad6745-770b-4a05-a1c0-939d75f526b4"
      },
      "execution_count": null,
      "outputs": [
        {
          "output_type": "stream",
          "name": "stdout",
          "text": [
            "y      : [0 0 0 0 0 0 0 1 1 1]\n",
            "y_pred : [0 0 0 0 0 0 0 1 1 1]\n"
          ]
        }
      ]
    },
    {
      "cell_type": "code",
      "source": [
        "from sklearn.metrics import accuracy_score, classification_report, confusion_matrix\n",
        "\n",
        "# Evaluate the model's performance\n",
        "accuracy = accuracy_score(y_test, y_pred)\n",
        "print(\"Accuracy:\", round(accuracy, 3))"
      ],
      "metadata": {
        "colab": {
          "base_uri": "https://localhost:8080/"
        },
        "id": "KXiL0nry0WTL",
        "outputId": "8e4eeee5-a7fd-4daa-da86-1ed7049204f2"
      },
      "execution_count": null,
      "outputs": [
        {
          "output_type": "stream",
          "name": "stdout",
          "text": [
            "Accuracy: 0.753\n"
          ]
        }
      ]
    },
    {
      "cell_type": "markdown",
      "source": [
        "Testing others models"
      ],
      "metadata": {
        "id": "G6N5sh-h2Nwh"
      }
    },
    {
      "cell_type": "code",
      "source": [
        "from sklearn.tree import DecisionTreeClassifier\n",
        "from sklearn.ensemble import RandomForestClassifier\n",
        "from sklearn.svm import SVC\n",
        "\n",
        "\n",
        "# Define a list of classifiers\n",
        "classifiers = [\n",
        "    (\"Decision Tree\", DecisionTreeClassifier()),\n",
        "    (\"Random Forest\", RandomForestClassifier()),\n",
        "    (\"Support Vector Machine\", SVC())\n",
        "]\n",
        "\n",
        "# Train and evaluate each classifier\n",
        "for name, clf in classifiers:\n",
        "    clf.fit(X_train_scaled, y_train)\n",
        "    y_pred = clf.predict(X_test_scaled)\n",
        "    accuracy = accuracy_score(y_test, y_pred)\n",
        "    print(f\"{name}: Accuracy - {accuracy:.3f}\")\n",
        "    print(\"Classification Report:\")\n",
        "    print(classification_report(y_test, y_pred))\n",
        "    print(\"Confusion Matrix:\")\n",
        "    print(confusion_matrix(y_test, y_pred))\n",
        "    print(\"-\" * 50, \"\\n\")"
      ],
      "metadata": {
        "colab": {
          "base_uri": "https://localhost:8080/"
        },
        "id": "pb0VI8St2AV7",
        "outputId": "1127ff74-46b2-412f-c122-725a61f88a59"
      },
      "execution_count": null,
      "outputs": [
        {
          "output_type": "stream",
          "name": "stdout",
          "text": [
            "Decision Tree: Accuracy - 0.753\n",
            "Classification Report:\n",
            "              precision    recall  f1-score   support\n",
            "\n",
            "           0       0.85      0.75      0.80        99\n",
            "           1       0.63      0.76      0.69        55\n",
            "\n",
            "    accuracy                           0.75       154\n",
            "   macro avg       0.74      0.76      0.74       154\n",
            "weighted avg       0.77      0.75      0.76       154\n",
            "\n",
            "Confusion Matrix:\n",
            "[[74 25]\n",
            " [13 42]]\n",
            "-------------------------------------------------- \n",
            "\n",
            "Random Forest: Accuracy - 0.773\n",
            "Classification Report:\n",
            "              precision    recall  f1-score   support\n",
            "\n",
            "           0       0.83      0.82      0.82        99\n",
            "           1       0.68      0.69      0.68        55\n",
            "\n",
            "    accuracy                           0.77       154\n",
            "   macro avg       0.75      0.75      0.75       154\n",
            "weighted avg       0.77      0.77      0.77       154\n",
            "\n",
            "Confusion Matrix:\n",
            "[[81 18]\n",
            " [17 38]]\n",
            "-------------------------------------------------- \n",
            "\n",
            "Support Vector Machine: Accuracy - 0.734\n",
            "Classification Report:\n",
            "              precision    recall  f1-score   support\n",
            "\n",
            "           0       0.77      0.83      0.80        99\n",
            "           1       0.65      0.56      0.60        55\n",
            "\n",
            "    accuracy                           0.73       154\n",
            "   macro avg       0.71      0.70      0.70       154\n",
            "weighted avg       0.73      0.73      0.73       154\n",
            "\n",
            "Confusion Matrix:\n",
            "[[82 17]\n",
            " [24 31]]\n",
            "-------------------------------------------------- \n",
            "\n"
          ]
        }
      ]
    },
    {
      "cell_type": "markdown",
      "metadata": {
        "id": "cRw8AA2Zazgh"
      },
      "source": [
        "## Deep Learning 1"
      ]
    },
    {
      "cell_type": "markdown",
      "metadata": {
        "id": "sT-NF7bqazgi"
      },
      "source": [
        "### Exercise 3 -- Recommender Systems\n",
        "\n",
        "#### 🔴 3.1 A wrong model **(12 points)**\n",
        "\n",
        "We build a recommender system that takes as input a user id and an item id and outputs a rating (continuous value between 1 and 10).\n",
        "Let's suppose there are `10000` users and `1000` items.\n",
        "There are 6 wrong / incoherent lines in this code, correct them all, and place a short comment using `#` in the same line."
      ]
    },
    {
      "cell_type": "code",
      "metadata": {
        "id": "xZUDTrGLazgj"
      },
      "source": [
        "import tensorflow as tf\n",
        "\n",
        "from tensorflow.keras.layers import Input, Embedding, Flatten\n",
        "from tensorflow.keras.layers import Dense, Dropout, Dot, Concatenate\n",
        "from tensorflow.keras.models import Model\n",
        "\n",
        "tf.random.set_seed(0)  # fix the random seed (do not change this line)\n",
        "\n",
        "EMBEDDING_SIZE = 100  #  more reasonable size for embeddings\n",
        "NUM_ITEMS = 1000  # coorected the number of items to 1000 as mentioned in the problem statement\n",
        "NUM_USERS = 10000\n",
        "item_embedding = Embedding(output_dim=EMBEDDING_SIZE,\n",
        "                           input_dim=NUM_ITEMS,\n",
        "                           input_length=1)\n",
        "user_embedding = Embedding(output_dim=EMBEDDING_SIZE,\n",
        "                           input_dim=NUM_USERS,\n",
        "                           input_length=1)\n",
        "\n",
        "item = Input(shape=(1,), dtype='int32')\n",
        "user = Input(shape=(1,), dtype='int32')\n",
        "emb_item = Flatten()(item_embedding(item))\n",
        "emb_user = Flatten()(user_embedding(user))\n",
        "x = Concatenate()([emb_item, emb_user])\n",
        "x = Dropout(0.99)(x) #  Corrected dropout value to 0.1  as 0.99 is too high.\n",
        "x = Dense(1, activation=\"relu\")(x)\n",
        "x = Dense(1, activation=\"tanh\")(x)  # Changed Dense layer units to 1 for output rating\n",
        "\n",
        "model = Model([item, user], x)\n",
        "model.compile(optimizer='rmsprop', loss='mean_squared_error')  # Corrected loss to 'mean_squared_error'"
      ],
      "execution_count": null,
      "outputs": []
    },
    {
      "cell_type": "code",
      "source": [
        "model.summary()"
      ],
      "metadata": {
        "colab": {
          "base_uri": "https://localhost:8080/"
        },
        "id": "rnats_JZ5dKI",
        "outputId": "ebaa7dc4-76c4-4b31-a2e4-a01c85f5a5af"
      },
      "execution_count": null,
      "outputs": [
        {
          "output_type": "stream",
          "name": "stdout",
          "text": [
            "Model: \"model\"\n",
            "__________________________________________________________________________________________________\n",
            " Layer (type)                Output Shape                 Param #   Connected to                  \n",
            "==================================================================================================\n",
            " input_1 (InputLayer)        [(None, 1)]                  0         []                            \n",
            "                                                                                                  \n",
            " input_2 (InputLayer)        [(None, 1)]                  0         []                            \n",
            "                                                                                                  \n",
            " embedding (Embedding)       (None, 1, 100)               100000    ['input_1[0][0]']             \n",
            "                                                                                                  \n",
            " embedding_1 (Embedding)     (None, 1, 100)               1000000   ['input_2[0][0]']             \n",
            "                                                                                                  \n",
            " flatten (Flatten)           (None, 100)                  0         ['embedding[0][0]']           \n",
            "                                                                                                  \n",
            " flatten_1 (Flatten)         (None, 100)                  0         ['embedding_1[0][0]']         \n",
            "                                                                                                  \n",
            " concatenate (Concatenate)   (None, 200)                  0         ['flatten[0][0]',             \n",
            "                                                                     'flatten_1[0][0]']           \n",
            "                                                                                                  \n",
            " dropout (Dropout)           (None, 200)                  0         ['concatenate[0][0]']         \n",
            "                                                                                                  \n",
            " dense (Dense)               (None, 1)                    201       ['dropout[0][0]']             \n",
            "                                                                                                  \n",
            " dense_1 (Dense)             (None, 1)                    2         ['dense[0][0]']               \n",
            "                                                                                                  \n",
            "==================================================================================================\n",
            "Total params: 1100203 (4.20 MB)\n",
            "Trainable params: 1100203 (4.20 MB)\n",
            "Non-trainable params: 0 (0.00 Byte)\n",
            "__________________________________________________________________________________________________\n"
          ]
        }
      ]
    },
    {
      "cell_type": "markdown",
      "metadata": {
        "id": "N7NuPFt2azgj"
      },
      "source": [
        "#### 3.2 Most similar embedding vectors **(10 points)**\n",
        "\n",
        "We want to find the most similar items to a given vector $x$ using the embedding matrix $W$ of the previous (untrained) recommendation model.\n",
        "\n",
        "🔴 1. Retreive the right embedding matrix from the previous model and store it in `items_embeddings` **(3 points)**"
      ]
    },
    {
      "cell_type": "code",
      "metadata": {
        "id": "GrzpqAmsazgk",
        "colab": {
          "base_uri": "https://localhost:8080/"
        },
        "outputId": "6014ec6b-0859-44c9-a1b2-2ca1e5441055"
      },
      "source": [
        "#item_embeddings =  # TODO: change this\n",
        "#item_embeddings.shape\n",
        "\n",
        "# Retrieve the weights of the item_embedding layer from the previous model\n",
        "item_embeddings = model.get_layer('embedding').get_weights()[0]\n",
        "\n",
        "# Check the shape of the item_embeddings matrix\n",
        "print(\"Shape of item_embeddings matrix:\", item_embeddings.shape)"
      ],
      "execution_count": null,
      "outputs": [
        {
          "output_type": "stream",
          "name": "stdout",
          "text": [
            "Shape of item_embeddings matrix: (1000, 100)\n"
          ]
        }
      ]
    },
    {
      "cell_type": "markdown",
      "metadata": {
        "id": "feIA22Tmazgk"
      },
      "source": [
        "2. Write a function to compute the cosine similariti**es** between a vector x and all the possible vectors y in the item embedding matrix **(2 points)**. Recall that for a given vector y, the cosine similarity is given by:\n",
        "\n",
        "$$cos(\\mathbf{x}, \\mathbf{y}) = \\frac{\\mathbf{x}^T \\mathbf{y}}{|| \\mathbf{x} ||_2 || \\mathbf{y} ||_2 }$$\n",
        "\n"
      ]
    },
    {
      "cell_type": "code",
      "metadata": {
        "id": "nAzm4X2kazgk"
      },
      "source": [
        "import numpy as np\n",
        "\n",
        "\n",
        "def cosine_sims(x, y):\n",
        "    # TODO: write me!\n",
        "    # Compute dot product between x and y\n",
        "    dot_product = np.dot(x, y.T)\n",
        "\n",
        "    # Compute norms of x and y\n",
        "    norm_x = np.linalg.norm(x)\n",
        "    norm_y = np.linalg.norm(y, axis=1)\n",
        "\n",
        "    # Compute cosine similarities\n",
        "    similarities = dot_product / (norm_x * norm_y)\n",
        "\n",
        "    return similarities\n",
        "\n",
        "\n",
        "# Arbitrary query vector x used for testing:\n",
        "x = np.ones(shape=(EMBEDDING_SIZE,))\n",
        "similarities = cosine_sims(x, item_embeddings)"
      ],
      "execution_count": null,
      "outputs": []
    },
    {
      "cell_type": "code",
      "metadata": {
        "id": "cSlv2UdDazgl",
        "colab": {
          "base_uri": "https://localhost:8080/"
        },
        "outputId": "58769c0f-43b7-49ee-93f2-886714f24776"
      },
      "source": [
        "print(\"shape:\", similarities.shape)\n",
        "print(f\"min={similarities.min()}, max={similarities.max()}\")"
      ],
      "execution_count": null,
      "outputs": [
        {
          "output_type": "stream",
          "name": "stdout",
          "text": [
            "shape: (1000,)\n",
            "min=-0.3622936427789141, max=0.3180012145755963\n"
          ]
        }
      ]
    },
    {
      "cell_type": "markdown",
      "metadata": {
        "id": "8w0R3rkqazgl"
      },
      "source": [
        "3. Write a function to find the 3 most similar item vectors to our query vector `x`: **(5 points)**"
      ]
    },
    {
      "cell_type": "code",
      "metadata": {
        "id": "B0VuX8Bxazgl",
        "colab": {
          "base_uri": "https://localhost:8080/"
        },
        "outputId": "e99782d1-212f-4a50-cdf4-d9642e04dd2b"
      },
      "source": [
        "def most_similar(x, item_embeddings, top_n=3):\n",
        "    # TODO: write me!\n",
        "    # Compute cosine similarities between x and all item vectors\n",
        "    similarities = cosine_sims(x, item_embeddings)\n",
        "\n",
        "    # Get indices of top_n items with highest similarities\n",
        "    top_indices = np.argsort(similarities)[::-1][:top_n]\n",
        "\n",
        "     # Create a list of (item_id, similarity) tuples\n",
        "    similar_items = [(index, similarities[index]) for index in top_indices]\n",
        "\n",
        "    return similar_items\n",
        "\n",
        "\n",
        "most_similar(x, item_embeddings, top_n=3)\n",
        "# possible output if the function is well written:\n",
        "# A list of (item_id, similarity) tuples in descending similarity order:\n",
        "# [(686, 0.333...),\n",
        "# (728, 0.292...),\n",
        "# (675, 0.257...)]"
      ],
      "execution_count": null,
      "outputs": [
        {
          "output_type": "execute_result",
          "data": {
            "text/plain": [
              "[(660, 0.3180012145755963),\n",
              " (480, 0.29472378435483043),\n",
              " (950, 0.2869575843145515)]"
            ]
          },
          "metadata": {},
          "execution_count": 45
        }
      ]
    },
    {
      "cell_type": "code",
      "source": [
        "# simple CNN\n",
        "import tensorflow as tf\n",
        "from tensorflow.keras.layers import Input, Conv2D, Activation\n",
        "from tensorflow.keras.models import Model\n",
        "\n",
        "# Define input layer\n",
        "my_input = Input(shape=(10, 10, 1))\n",
        "\n",
        "# Add convolutional layer\n",
        "my_output = Conv2D(1, (3, 3))(my_input)\n",
        "\n",
        "# Add activation layer\n",
        "my_output = Activation(\"sigmoid\")(my_output)\n",
        "\n",
        "# Create model\n",
        "model = Model(inputs=my_input, outputs=my_output)\n",
        "\n",
        "# Display model summary\n",
        "model.summary()"
      ],
      "metadata": {
        "colab": {
          "base_uri": "https://localhost:8080/"
        },
        "id": "EQWFcQ5Gh4WY",
        "outputId": "2b32d264-09dd-4e4f-9f8a-46b9455c94ed"
      },
      "execution_count": 19,
      "outputs": [
        {
          "output_type": "stream",
          "name": "stdout",
          "text": [
            "Model: \"model_3\"\n",
            "_________________________________________________________________\n",
            " Layer (type)                Output Shape              Param #   \n",
            "=================================================================\n",
            " input_5 (InputLayer)        [(None, 10, 10, 1)]       0         \n",
            "                                                                 \n",
            " conv2d_3 (Conv2D)           (None, 8, 8, 1)           10        \n",
            "                                                                 \n",
            " activation_3 (Activation)   (None, 8, 8, 1)           0         \n",
            "                                                                 \n",
            "=================================================================\n",
            "Total params: 10 (40.00 Byte)\n",
            "Trainable params: 10 (40.00 Byte)\n",
            "Non-trainable params: 0 (0.00 Byte)\n",
            "_________________________________________________________________\n"
          ]
        }
      ]
    },
    {
      "cell_type": "markdown",
      "metadata": {
        "id": "lLQc2bqcazgm"
      },
      "source": [
        "### Exercise 4 -- Computer Vision\n",
        "\n",
        "A datascientist named Alice has built the following CNN:"
      ]
    },
    {
      "cell_type": "code",
      "metadata": {
        "id": "mQx7cNzJazgm"
      },
      "source": [
        "import tensorflow as tf\n",
        "import numpy as np\n",
        "from tensorflow.keras.applications.resnet50 import ResNet50\n",
        "from tensorflow.keras.layers import Softmax\n",
        "from tensorflow.keras.layers import Input, Convolution2D, MaxPooling2D, Flatten, Dense\n",
        "from tensorflow.keras.models import Model"
      ],
      "execution_count": 1,
      "outputs": []
    },
    {
      "cell_type": "code",
      "metadata": {
        "id": "W_xFoOhCazgm"
      },
      "source": [
        "input = Input((112, 112, 3))\n",
        "x = Convolution2D(32, kernel_size=(3, 3), padding='same',\n",
        "                  activation='relu', name='conv1')(input)\n",
        "x = MaxPooling2D(pool_size=(2, 2))(x)\n",
        "x = Convolution2D(64, kernel_size=(3, 3), padding='same',\n",
        "                  activation='relu', name=\"conv2\")(x)\n",
        "x = Convolution2D(64, kernel_size=(3, 3), padding='same',\n",
        "                  activation='relu', name=\"conv3\")(x)\n",
        "x = MaxPooling2D(pool_size=(2, 2))(x)\n",
        "x = Convolution2D(128, kernel_size=(3, 3), padding='same',\n",
        "                  activation='relu', name=\"conv4\")(x)\n",
        "x = Convolution2D(128, kernel_size=(3, 3), padding='same',\n",
        "                  activation='relu', name=\"conv5\")(x)\n",
        "x = MaxPooling2D(pool_size=(2, 2))(x)\n",
        "x = Convolution2D(256, kernel_size=(3, 3), padding='same',\n",
        "                  activation='relu', name=\"conv6\")(x)\n",
        "x = MaxPooling2D(pool_size=(2, 2))(x)\n",
        "x = Flatten(name=\"flatten\")(x)\n",
        "x = Dense(2048, name=\"fc1\")(x)\n",
        "output = Dense(1000, activation=\"softmax\", name=\"fc2\")(x)\n",
        "model = Model(input, output)"
      ],
      "execution_count": 3,
      "outputs": []
    },
    {
      "cell_type": "code",
      "source": [
        "model.summary()"
      ],
      "metadata": {
        "colab": {
          "base_uri": "https://localhost:8080/"
        },
        "id": "kIaZ7f6Oa_FS",
        "outputId": "433cad23-da03-4d32-9449-adea810622d7"
      },
      "execution_count": 4,
      "outputs": [
        {
          "output_type": "stream",
          "name": "stdout",
          "text": [
            "Model: \"model\"\n",
            "_________________________________________________________________\n",
            " Layer (type)                Output Shape              Param #   \n",
            "=================================================================\n",
            " input_1 (InputLayer)        [(None, 112, 112, 3)]     0         \n",
            "                                                                 \n",
            " conv1 (Conv2D)              (None, 112, 112, 32)      896       \n",
            "                                                                 \n",
            " max_pooling2d (MaxPooling2  (None, 56, 56, 32)        0         \n",
            " D)                                                              \n",
            "                                                                 \n",
            " conv2 (Conv2D)              (None, 56, 56, 64)        18496     \n",
            "                                                                 \n",
            " conv3 (Conv2D)              (None, 56, 56, 64)        36928     \n",
            "                                                                 \n",
            " max_pooling2d_1 (MaxPoolin  (None, 28, 28, 64)        0         \n",
            " g2D)                                                            \n",
            "                                                                 \n",
            " conv4 (Conv2D)              (None, 28, 28, 128)       73856     \n",
            "                                                                 \n",
            " conv5 (Conv2D)              (None, 28, 28, 128)       147584    \n",
            "                                                                 \n",
            " max_pooling2d_2 (MaxPoolin  (None, 14, 14, 128)       0         \n",
            " g2D)                                                            \n",
            "                                                                 \n",
            " conv6 (Conv2D)              (None, 14, 14, 256)       295168    \n",
            "                                                                 \n",
            " max_pooling2d_3 (MaxPoolin  (None, 7, 7, 256)         0         \n",
            " g2D)                                                            \n",
            "                                                                 \n",
            " flatten (Flatten)           (None, 12544)             0         \n",
            "                                                                 \n",
            " fc1 (Dense)                 (None, 2048)              25692160  \n",
            "                                                                 \n",
            " fc2 (Dense)                 (None, 1000)              2049000   \n",
            "                                                                 \n",
            "=================================================================\n",
            "Total params: 28314088 (108.01 MB)\n",
            "Trainable params: 28314088 (108.01 MB)\n",
            "Non-trainable params: 0 (0.00 Byte)\n",
            "_________________________________________________________________\n"
          ]
        }
      ]
    },
    {
      "cell_type": "markdown",
      "source": [
        "## Understanding the Layers Architecture:\n",
        "\n",
        "- **Convolutional Layers (conv1 to conv6)**:\n",
        "\n",
        "These layers apply filters to the input image, extracting features like edges, textures, and shapes.\n",
        "Each filter has a specific size (e.g., 3x3) and generates a feature map.\n",
        "The number of filters determines the number of feature maps produced by the layer.\n",
        "\n",
        "\n",
        "- **MaxPooling2D Layers**:\n",
        "\n",
        "These layers downsample the feature maps by taking the maximum value from a specific region (e.g., 2x2 pool size).\n",
        "This reduces the height and width of the feature maps but retains the most prominent features.\n",
        "\n",
        "\n",
        "- **Flatten Layer**:\n",
        "\n",
        "This layer takes the multi-dimensional output from the convolutional layers (batch size, height, width, number of feature maps) and reshapes it into a single long vector.\n"
      ],
      "metadata": {
        "id": "SMeHjaQ0cRwp"
      }
    },
    {
      "cell_type": "markdown",
      "source": [
        "## Calculation Steps:\n",
        "\n",
        "**1. Convolutional Layer Output:**\n",
        "\n",
        "- Assume the last convolutional layer (conv6) has 128 filters (output channels).\n",
        "- After applying max pooling twice, the final height (h) and width (w) of the feature maps might be reduced to 14 compared to the original 112 (assuming a stride of 1 and no padding).\n",
        "- So, the output shape from conv6 would be:\n",
        "(batch_size, h, w, num_filters) = (32, 14, 14, 128)."
      ],
      "metadata": {
        "id": "AghVTTAKdCYG"
      }
    },
    {
      "cell_type": "code",
      "source": [
        "(batch_size, h, w, num_filters) = (32, 14, 14, 128)"
      ],
      "metadata": {
        "id": "gYyTCMdHcHdi"
      },
      "execution_count": 5,
      "outputs": []
    },
    {
      "cell_type": "code",
      "source": [
        "flattened_size = h * w * num_filters\n",
        "flattened_size"
      ],
      "metadata": {
        "colab": {
          "base_uri": "https://localhost:8080/"
        },
        "id": "x2hVu56zbRIX",
        "outputId": "9c022f56-50e1-482b-d7ba-4488886db7a1"
      },
      "execution_count": 8,
      "outputs": [
        {
          "output_type": "execute_result",
          "data": {
            "text/plain": [
              "25088"
            ]
          },
          "metadata": {},
          "execution_count": 8
        }
      ]
    },
    {
      "cell_type": "markdown",
      "source": [
        "**2. Flatten Layer Calculation:**\n",
        "\n",
        "The flatten layer takes this 4D tensor and multiplies the remaining height, width, and number of channels to get the total number of elements in the flattened vector:\n",
        "- flattened_size = h * w * num_filters\n",
        "- In this case: flattened_size = 14 * 14 * 128 = 819\n"
      ],
      "metadata": {
        "id": "NRfzdiHEd-7p"
      }
    },
    {
      "cell_type": "code",
      "source": [
        "# flattened_size = h * w * num_filters\n",
        "flattened_size=14 * 14 * 128\n",
        "flattened_size"
      ],
      "metadata": {
        "colab": {
          "base_uri": "https://localhost:8080/"
        },
        "id": "RuBtRpvTd-E8",
        "outputId": "085dc0f6-0883-4118-c519-3246566c74b1"
      },
      "execution_count": 12,
      "outputs": [
        {
          "output_type": "execute_result",
          "data": {
            "text/plain": [
              "25088"
            ]
          },
          "metadata": {},
          "execution_count": 12
        }
      ]
    },
    {
      "cell_type": "markdown",
      "source": [
        "3. Final Shape:\n",
        "\n",
        "Since we have a batch size of 32 images, the final shape of the activations at the output of the flatten layer becomes: (batch_size, flattened_size) = (32, 8192)."
      ],
      "metadata": {
        "id": "oPZBJfAgef28"
      }
    },
    {
      "cell_type": "code",
      "source": [
        "(batch_size, flattened_size) = (32, 8192)"
      ],
      "metadata": {
        "id": "8-jHa-Tuee0q"
      },
      "execution_count": 13,
      "outputs": []
    },
    {
      "cell_type": "markdown",
      "metadata": {
        "id": "G08Huoddazgo"
      },
      "source": [
        "##### 4.5 Our datascientist wants to make the original network fully-convolutional (e.g. to do coarse semantic segmentation) **(12 points)**\n",
        "\n",
        "Modify the following code to make the network fully convolutionnal.\n",
        "- Remember to use (1, 1)  convolutions instead of Dense Layers and do all necessary transformation.\n",
        "- If needed, you may use the `Softmax(axis=-1)`.\n",
        "- Keep exactly the same numbers of parameters as for the standard model.\n",
        "- You may add or remove layers to make the whole thing work."
      ]
    },
    {
      "cell_type": "code",
      "metadata": {
        "id": "9FtriOihazgo"
      },
      "source": [
        "input = Input((112, 112, 3))\n",
        "x = Convolution2D(32, kernel_size=(3, 3), padding='same',\n",
        "                  activation='relu', name='conv1')(input)\n",
        "x = MaxPooling2D(pool_size=(2, 2))(x)\n",
        "x = Convolution2D(64, kernel_size=(3, 3), padding='same',\n",
        "                  activation='relu', name=\"conv2\")(x)\n",
        "x = Convolution2D(64, kernel_size=(3, 3), padding='same',\n",
        "                  activation='relu', name=\"conv3\")(x)\n",
        "x = MaxPooling2D(pool_size=(2, 2))(x)\n",
        "x = Convolution2D(128, kernel_size=(3, 3), padding='same',\n",
        "                  activation='relu', name=\"conv4\")(x)\n",
        "x = Convolution2D(128, kernel_size=(3, 3), padding='same',\n",
        "                  activation='relu', name=\"conv5\")(x)\n",
        "x = MaxPooling2D(pool_size=(2, 2))(x)\n",
        "x = Convolution2D(256, kernel_size=(3, 3), padding='same',\n",
        "                  activation='relu', name=\"conv6\")(x)\n",
        "\n",
        "x = MaxPooling2D(pool_size=(2, 2))(x)\n",
        "\n",
        "x = Convolution2D(2048, kernel_size=(7, 7), padding='valid',  # 7x7 is chosen to maintain spatial dimensions\n",
        "                  activation='relu', name=\"conv7\")(x)\n",
        "\n",
        "x = Convolution2D(1000, kernel_size=(1, 1), padding='same',  # 1x1 convolution to get 1000 channels\n",
        "                  activation=None, name=\"conv8\")(x)\n",
        "\n",
        "output = Softmax(axis=-1, name=\"softmax\")(x)  # Softmax activation along the channel dimension\n",
        "model = Model(input, output)"
      ],
      "execution_count": null,
      "outputs": []
    },
    {
      "cell_type": "markdown",
      "metadata": {
        "id": "qS-STLNNazgo"
      },
      "source": [
        "Use the following cells to test your model on a ranomd input (you do not need to edit the code of those cells):"
      ]
    },
    {
      "cell_type": "code",
      "metadata": {
        "id": "UsOxcUMSazgp",
        "colab": {
          "base_uri": "https://localhost:8080/"
        },
        "outputId": "ba650e5a-2ddd-4db4-83e1-5e9d668e690a"
      },
      "source": [
        "test_batch = np.random.normal(size=(5, 112, 112, 3))\n",
        "predicted = model.predict(test_batch)\n",
        "predicted.shape"
      ],
      "execution_count": null,
      "outputs": [
        {
          "output_type": "stream",
          "name": "stdout",
          "text": [
            "1/1 [==============================] - 0s 406ms/step\n"
          ]
        },
        {
          "output_type": "execute_result",
          "data": {
            "text/plain": [
              "(5, 1, 1, 1000)"
            ]
          },
          "metadata": {},
          "execution_count": 54
        }
      ]
    },
    {
      "cell_type": "code",
      "metadata": {
        "id": "Pn6fDn4Nazgp",
        "colab": {
          "base_uri": "https://localhost:8080/"
        },
        "outputId": "2626f6bc-052a-4a7a-fa8d-f608034f2967"
      },
      "source": [
        "predicted.min()"
      ],
      "execution_count": null,
      "outputs": [
        {
          "output_type": "execute_result",
          "data": {
            "text/plain": [
              "0.0008871992"
            ]
          },
          "metadata": {},
          "execution_count": 55
        }
      ]
    },
    {
      "cell_type": "code",
      "metadata": {
        "id": "aPQAr7fpazgp",
        "colab": {
          "base_uri": "https://localhost:8080/"
        },
        "outputId": "8efae3b7-4469-4256-c748-35ac8b7dbe16"
      },
      "source": [
        "predicted.sum(axis=-1)[0]"
      ],
      "execution_count": null,
      "outputs": [
        {
          "output_type": "execute_result",
          "data": {
            "text/plain": [
              "array([[1.]], dtype=float32)"
            ]
          },
          "metadata": {},
          "execution_count": 56
        }
      ]
    },
    {
      "cell_type": "code",
      "source": [],
      "metadata": {
        "id": "mxrCLgJu9pHr"
      },
      "execution_count": null,
      "outputs": []
    }
  ]
}